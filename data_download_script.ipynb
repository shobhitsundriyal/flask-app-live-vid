{
 "cells": [
  {
   "cell_type": "code",
   "execution_count": 2,
   "metadata": {},
   "outputs": [],
   "source": [
    "\n",
    "# from google_images_download import google_images_download   #importing the library\n",
    "\n",
    "# response = google_images_download.googleimagesdownload()   #class instantiation\n",
    "\n",
    "# arguments = {\"keywords\":\"fire in field,fire in farm,fire in hospital, fire in dumpyard, fire in labs, fire in crop, fire in hall\",\"limit\":100,\"print_urls\":True}   #creating list of arguments\n",
    "# paths = response.download(arguments)   #passing the arguments to the function\n",
    "# print(paths)   #printing absolute paths of the downloaded images\n"
   ]
  },
  {
   "cell_type": "code",
   "execution_count": null,
   "metadata": {},
   "outputs": [],
   "source": []
  },
  {
   "cell_type": "code",
   "execution_count": null,
   "metadata": {},
   "outputs": [],
   "source": []
  }
 ],
 "metadata": {
  "kernelspec": {
   "display_name": "Python 3",
   "language": "python",
   "name": "python3"
  },
  "language_info": {
   "codemirror_mode": {
    "name": "ipython",
    "version": 3
   },
   "file_extension": ".py",
   "mimetype": "text/x-python",
   "name": "python",
   "nbconvert_exporter": "python",
   "pygments_lexer": "ipython3",
   "version": "3.7.3"
  }
 },
 "nbformat": 4,
 "nbformat_minor": 2
}
